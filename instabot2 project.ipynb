{
 "cells": [
  {
   "cell_type": "markdown",
   "id": "d0352cde",
   "metadata": {},
   "source": [
    "# Instructions\n",
    "<h6>1) Just run the complete code once.</h6>\n",
    "<h6>2) Enter your username and password below mentioned</h6>\n",
    "<h6>3) Just sit back and relax.</h6>\n",
    "<h6>4) Must haave a good internet connection.</h6>    \n"
   ]
  },
  {
   "cell_type": "markdown",
   "id": "2764be1e",
   "metadata": {},
   "source": [
    "# Importing all important libraries"
   ]
  },
  {
   "cell_type": "code",
   "execution_count": 301,
   "id": "ac5b8c8c",
   "metadata": {},
   "outputs": [],
   "source": [
    "from selenium import webdriver\n",
    "from selenium.webdriver.common.keys import Keys\n",
    "import time\n",
    "import matplotlib.pyplot as plt\n",
    "import pandas as pd\n",
    "import numpy as np\n",
    "from selenium.common.exceptions import NoSuchElementException\n",
    "from selenium.common.exceptions import ElementNotInteractableException\n",
    "from selenium.common.exceptions import StaleElementReferenceException\n",
    "from selenium.common.exceptions import TimeoutException\n",
    "from selenium.webdriver.support.ui import WebDriverWait\n",
    "from selenium.webdriver.support import expected_conditions as EC\n",
    "from selenium.webdriver.common.by import By\n",
    "from selenium.webdriver.support.select import Select"
   ]
  },
  {
   "cell_type": "markdown",
   "id": "16a2c00b",
   "metadata": {},
   "source": [
    "# Open Chrome Webdriver"
   ]
  },
  {
   "cell_type": "code",
   "execution_count": 302,
   "id": "5655b15e",
   "metadata": {},
   "outputs": [],
   "source": [
    "# ***********open the webdriver through these commands***********\n",
    "from selenium.webdriver.chrome.service import Service\n",
    "s = Service('/Users/ADMIN/.wdm/drivers/chromedriver/win32/95.0.4638.69/chromedriver.exe')\n",
    "driver = webdriver.Chrome(service = s)\n",
    "# you can add your web driver location"
   ]
  },
  {
   "cell_type": "markdown",
   "id": "be5e1a3d",
   "metadata": {},
   "source": [
    "# Visit Instagram"
   ]
  },
  {
   "cell_type": "code",
   "execution_count": 303,
   "id": "d0ad6ec6",
   "metadata": {},
   "outputs": [],
   "source": [
    "driver.get(\"https://www.instagram.com/\")\n",
    "driver.maximize_window()\n",
    "waiter = WebDriverWait(driver,10).until(EC.presence_of_element_located((By.NAME,\"username\")))"
   ]
  },
  {
   "cell_type": "code",
   "execution_count": 304,
   "id": "f4c13812",
   "metadata": {},
   "outputs": [
    {
     "name": "stderr",
     "output_type": "stream",
     "text": [
      "<ipython-input-304-f804fe441525>:3: DeprecationWarning: find_element_by_* commands are deprecated. Please use find_element() instead\n",
      "  username_locate = driver.find_element_by_name('username')\n",
      "<ipython-input-304-f804fe441525>:5: DeprecationWarning: find_element_by_* commands are deprecated. Please use find_element() instead\n",
      "  password_locate = driver.find_element_by_name('password')\n",
      "<ipython-input-304-f804fe441525>:7: DeprecationWarning: find_element_by_* commands are deprecated. Please use find_element() instead\n",
      "  driver.find_element_by_xpath('//*[@id=\"loginForm\"]/div/div[3]').click()\n"
     ]
    }
   ],
   "source": [
    "SAMPLE_USERNAME = ''\n",
    "SAMPLE_PASSWORD = ''\n",
    "username_locate = driver.find_element_by_name('username')\n",
    "username_locate.send_keys(SAMPLE_USERNAME)\n",
    "password_locate = driver.find_element_by_name('password')\n",
    "password_locate.send_keys(SAMPLE_PASSWORD)\n",
    "driver.find_element_by_xpath('//*[@id=\"loginForm\"]/div/div[3]').click()\n",
    "waiter = WebDriverWait(driver,10).until(EC.presence_of_element_located((By.CLASS_NAME,'cmbtv')))\n"
   ]
  },
  {
   "cell_type": "code",
   "execution_count": 305,
   "id": "c8c5a696",
   "metadata": {},
   "outputs": [
    {
     "name": "stderr",
     "output_type": "stream",
     "text": [
      "<ipython-input-305-99dec4f41042>:1: DeprecationWarning: find_element_by_* commands are deprecated. Please use find_element() instead\n",
      "  driver.find_element_by_class_name('cmbtv').click()\n"
     ]
    }
   ],
   "source": [
    "driver.find_element_by_class_name('cmbtv').click()\n",
    "waiter = WebDriverWait(driver,10).until(EC.presence_of_element_located((By.CLASS_NAME,\"aOOlW.HoLwm\")))"
   ]
  },
  {
   "cell_type": "code",
   "execution_count": 306,
   "id": "dc7c6133",
   "metadata": {},
   "outputs": [
    {
     "name": "stderr",
     "output_type": "stream",
     "text": [
      "<ipython-input-306-24324b0d2e63>:1: DeprecationWarning: find_element_by_* commands are deprecated. Please use find_element() instead\n",
      "  driver.find_element_by_class_name('aOOlW.HoLwm').click()\n"
     ]
    }
   ],
   "source": [
    "driver.find_element_by_class_name('aOOlW.HoLwm').click()\n",
    "waiter = WebDriverWait(driver,10).until(EC.presence_of_element_located((By.CLASS_NAME,'pbgfb')))"
   ]
  },
  {
   "cell_type": "markdown",
   "id": "fb4f09fe",
   "metadata": {},
   "source": [
    "# Enabling the search-box input"
   ]
  },
  {
   "cell_type": "code",
   "execution_count": 307,
   "id": "8fdf2b3a",
   "metadata": {},
   "outputs": [
    {
     "name": "stderr",
     "output_type": "stream",
     "text": [
      "<ipython-input-307-5496befb0cc4>:1: DeprecationWarning: find_element_by_* commands are deprecated. Please use find_element() instead\n",
      "  search_box = driver.find_element_by_class_name(\"pbgfb\").click()\n"
     ]
    }
   ],
   "source": [
    "search_box = driver.find_element_by_class_name(\"pbgfb\").click()\n",
    "waiter = WebDriverWait(driver,10).until(EC.presence_of_element_located((By.CLASS_NAME,\"XTCLo.x3qfX\")))"
   ]
  },
  {
   "cell_type": "markdown",
   "id": "1ab2a61d",
   "metadata": {},
   "source": [
    "# serach for food"
   ]
  },
  {
   "cell_type": "code",
   "execution_count": 308,
   "id": "b1d2c0fb",
   "metadata": {},
   "outputs": [
    {
     "name": "stderr",
     "output_type": "stream",
     "text": [
      "<ipython-input-308-23f43a02b2bf>:1: DeprecationWarning: find_element_by_* commands are deprecated. Please use find_element() instead\n",
      "  search_box = driver.find_element_by_class_name(\"XTCLo.x3qfX\")\n"
     ]
    }
   ],
   "source": [
    "search_box = driver.find_element_by_class_name(\"XTCLo.x3qfX\")\n",
    "search_box.send_keys(\"food\")\n",
    "waiter = WebDriverWait(driver,10).until(EC.presence_of_element_located((By.CLASS_NAME,'_7UhW9.xLCgt.qyrsm.KV-D4.uL8Hv')))"
   ]
  },
  {
   "cell_type": "code",
   "execution_count": 309,
   "id": "efd6c054",
   "metadata": {},
   "outputs": [
    {
     "name": "stderr",
     "output_type": "stream",
     "text": [
      "<ipython-input-309-2deea4065499>:2: DeprecationWarning: find_elements_by_* commands are deprecated. Please use find_elements() instead\n",
      "  x = driver.find_elements_by_class_name('_7UhW9.xLCgt.qyrsm.KV-D4.uL8Hv')\n",
      "<ipython-input-309-2deea4065499>:6: DeprecationWarning: find_element_by_* commands are deprecated. Please use find_element() instead\n",
      "  driver.find_element_by_class_name(\"aIYm8.coreSpriteSearchClear\").click()\n"
     ]
    }
   ],
   "source": [
    "food_list = []\n",
    "x = driver.find_elements_by_class_name('_7UhW9.xLCgt.qyrsm.KV-D4.uL8Hv')\n",
    "for i in x:\n",
    "    if i.get_attribute('innerHTML')[0] != '#':\n",
    "        food_list.append(i.get_attribute('innerHTML'))\n",
    "driver.find_element_by_class_name(\"aIYm8.coreSpriteSearchClear\").click()"
   ]
  },
  {
   "cell_type": "markdown",
   "id": "e6370208",
   "metadata": {},
   "source": [
    "# Find out the followers of the pages"
   ]
  },
  {
   "cell_type": "code",
   "execution_count": 310,
   "id": "4fe4ecfa",
   "metadata": {},
   "outputs": [
    {
     "name": "stderr",
     "output_type": "stream",
     "text": [
      "<ipython-input-310-55dac1e2f8f9>:4: DeprecationWarning: find_element_by_* commands are deprecated. Please use find_element() instead\n",
      "  driver.find_element_by_class_name(\"pbgfb\").click()\n",
      "<ipython-input-310-55dac1e2f8f9>:6: DeprecationWarning: find_element_by_* commands are deprecated. Please use find_element() instead\n",
      "  search_box = driver.find_element_by_class_name(\"XTCLo.x3qfX\")\n"
     ]
    }
   ],
   "source": [
    "food_list = food_list[:10]\n",
    "no_of_follower = []\n",
    "for i in food_list:\n",
    "    driver.find_element_by_class_name(\"pbgfb\").click()\n",
    "    waiter = WebDriverWait(driver,10).until(EC.presence_of_element_located((By.CLASS_NAME,\"XTCLo.x3qfX\")))\n",
    "    search_box = driver.find_element_by_class_name(\"XTCLo.x3qfX\")\n",
    "    search_box.send_keys(i)\n",
    "    time.sleep(3)\n",
    "    x = driver.find_elements(By.XPATH,\"//a[@class = '-qQT3']/div[1]/div[2]/div[1]/div[1]/div[1]/div\")\n",
    "    for j in x:\n",
    "        if j.get_attribute('innerHTML') == i:\n",
    "            j.click()\n",
    "            break\n",
    "    time.sleep(3)\n",
    "    follower = int(driver.find_element(By.XPATH,'//*[@id=\"react-root\"]/section/main/div/header/section/ul/li[2]/a/span').get_attribute('title').replace(',',''))\n",
    "    no_of_follower.append(follower)\n",
    "    driver.back()\n",
    "    time.sleep(3)\n",
    "    \n",
    "    "
   ]
  },
  {
   "cell_type": "code",
   "execution_count": 311,
   "id": "2464e2da",
   "metadata": {},
   "outputs": [
    {
     "data": {
      "text/plain": [
       "{'dilsefoodie': 944377,\n",
       " 'foodie_incarnate': 897267,\n",
       " 'food_blogger290': 14329,\n",
       " 'foodies_findings': 279818,\n",
       " 'foodfusionpk': 1516370,\n",
       " 'food_lunatic': 124838,\n",
       " 'food': 151894,\n",
       " 'yourfoodlab': 1843759,\n",
       " 'delhifoodwalks': 156558,\n",
       " 'tasty.foodrecipes': 6880}"
      ]
     },
     "execution_count": 311,
     "metadata": {},
     "output_type": "execute_result"
    }
   ],
   "source": [
    "dict_food_list = {}\n",
    "for i in range(len(food_list)):\n",
    "    dict_food_list[food_list[i]] = no_of_follower[i]\n",
    "dict_food_list"
   ]
  },
  {
   "cell_type": "markdown",
   "id": "4c4f8515",
   "metadata": {},
   "source": [
    "# Top 5 Food pages"
   ]
  },
  {
   "cell_type": "code",
   "execution_count": 312,
   "id": "bcc256f8",
   "metadata": {},
   "outputs": [
    {
     "name": "stdout",
     "output_type": "stream",
     "text": [
      "Top 5 food pages out of first 10 selected from the \"food\" list is\n",
      "yourfoodlab\n",
      "foodfusionpk\n",
      "dilsefoodie\n",
      "foodie_incarnate\n",
      "foodies_findings\n"
     ]
    }
   ],
   "source": [
    "x = list(reversed(sorted(dict_food_list.values())))\n",
    "top_5 = {}\n",
    "for i in x[:5]:\n",
    "    for key in dict_food_list:\n",
    "        if dict_food_list[key] == i:\n",
    "            top_5[key] = i\n",
    "print('Top 5 food pages out of first 10 selected from the \"food\" list is')            \n",
    "for key in top_5:\n",
    "    print(key)\n"
   ]
  },
  {
   "cell_type": "code",
   "execution_count": 313,
   "id": "4f3328c2",
   "metadata": {},
   "outputs": [
    {
     "name": "stderr",
     "output_type": "stream",
     "text": [
      "<ipython-input-313-243c90c861e5>:3: DeprecationWarning: find_element_by_* commands are deprecated. Please use find_element() instead\n",
      "  driver.find_element_by_class_name(\"pbgfb\").click()\n",
      "<ipython-input-313-243c90c861e5>:5: DeprecationWarning: find_element_by_* commands are deprecated. Please use find_element() instead\n",
      "  search_box = driver.find_element_by_class_name(\"XTCLo.x3qfX\")\n"
     ]
    }
   ],
   "source": [
    "handle = {}\n",
    "for i in top_5.keys():\n",
    "    driver.find_element_by_class_name(\"pbgfb\").click()\n",
    "    waiter = WebDriverWait(driver,10).until(EC.presence_of_element_located((By.CLASS_NAME,\"XTCLo.x3qfX\")))\n",
    "    search_box = driver.find_element_by_class_name(\"XTCLo.x3qfX\")\n",
    "    search_box.send_keys(i)\n",
    "    time.sleep(3)\n",
    "    x = driver.find_elements(By.XPATH,\"//a[@class = '-qQT3']/div[1]/div[2]/div[1]/div[1]/div[1]/div\")\n",
    "    for j in x:\n",
    "        if j.get_attribute('innerHTML') == i:\n",
    "            j.click()\n",
    "            break\n",
    "    time.sleep(2)\n",
    "    for k in range(5):\n",
    "        driver.execute_script('window.scrollTo(0,document.body.scrollHeight);')\n",
    "        time.sleep(2)\n",
    "    driver.execute_script('window.scrollTo(0,0);')\n",
    "    time.sleep(1)\n",
    "    all_photos = driver.find_elements(By.XPATH,'//div[contains(@class, \"Nnq7C\")]/div/a/div[1]')\n",
    "    photo_count = 0\n",
    "    for photo in all_photos:\n",
    "        try:\n",
    "            photo.click()\n",
    "        except StaleElementReferenceException:\n",
    "            continue\n",
    "        time.sleep(2)\n",
    "        try:\n",
    "            x = driver.find_element(By.CLASS_NAME,'_1o9PC.Nzb55').get_attribute('innerHTML')\n",
    "        except NoSuchElementException:\n",
    "            continue\n",
    "        x = list(x.strip().split(' '))\n",
    "        if x[1] == 'hours':\n",
    "            photo_count += 1\n",
    "        elif x[1] == 'hour':\n",
    "            photo_count += 1\n",
    "        elif x[1] == 'minutes':\n",
    "            photo_count +=1\n",
    "        elif x[1] == 'day':\n",
    "            photo_count += 1\n",
    "        elif x[1] == 'days':\n",
    "            if int(x[0]) <= 3:\n",
    "                photo_count += 1\n",
    "            else:\n",
    "                driver.back()\n",
    "                break\n",
    "        else:\n",
    "            driver.back()\n",
    "        driver.back()\n",
    "        time.sleep(2)\n",
    "                \n",
    "    handle[i] = photo_count\n",
    "                \n",
    "\n",
    "\n",
    "    \n",
    "    "
   ]
  },
  {
   "cell_type": "markdown",
   "id": "4627d3a3",
   "metadata": {},
   "source": [
    "# Plot the bar graph for pages for posts in last 3 days."
   ]
  },
  {
   "cell_type": "code",
   "execution_count": 314,
   "id": "808eb950",
   "metadata": {},
   "outputs": [
    {
     "data": {
      "image/png": "[encoded data removed]",
      "text/plain": [
       "<Figure size 432x288 with 1 Axes>"
      ]
     },
     "metadata": {
      "needs_background": "light"
     },
     "output_type": "display_data"
    }
   ],
   "source": [
    "food_handler = []\n",
    "posts = []\n",
    "for key in handle:\n",
    "    food_handler.append(key)\n",
    "    posts.append(handle[key])\n",
    "    \n",
    "plt.bar(food_handler,posts,color='maroon',width = 0.4)\n",
    "plt.xticks(rotation =45)\n",
    "plt.show()"
   ]
  },
  {
   "cell_type": "markdown",
   "id": "b86111d2",
   "metadata": {},
   "source": [
    "# Scrapping Hashtags"
   ]
  },
  {
   "cell_type": "code",
   "execution_count": 315,
   "id": "62048572",
   "metadata": {},
   "outputs": [
    {
     "name": "stderr",
     "output_type": "stream",
     "text": [
      "<ipython-input-315-1cb2d7346559>:4: DeprecationWarning: find_element_by_* commands are deprecated. Please use find_element() instead\n",
      "  driver.find_element_by_class_name(\"pbgfb\").click()\n",
      "<ipython-input-315-1cb2d7346559>:6: DeprecationWarning: find_element_by_* commands are deprecated. Please use find_element() instead\n",
      "  search_box = driver.find_element_by_class_name(\"XTCLo.x3qfX\")\n"
     ]
    }
   ],
   "source": [
    "# scraping all the hashtags from these photos\n",
    "list_of_all_hashtags = []\n",
    "for i in top_5.keys():\n",
    "    driver.find_element_by_class_name(\"pbgfb\").click()\n",
    "    waiter = WebDriverWait(driver,10).until(EC.presence_of_element_located((By.CLASS_NAME,\"XTCLo.x3qfX\")))\n",
    "    search_box = driver.find_element_by_class_name(\"XTCLo.x3qfX\")\n",
    "    search_box.send_keys(i)\n",
    "    time.sleep(3)\n",
    "    x = driver.find_elements(By.XPATH,\"//a[@class = '-qQT3']/div[1]/div[2]/div[1]/div[1]/div[1]/div\")\n",
    "    for j in x:\n",
    "        if j.get_attribute('innerHTML') == i:\n",
    "            j.click()\n",
    "            break\n",
    "    time.sleep(2)\n",
    "    for k in range(5):\n",
    "        driver.execute_script('window.scrollTo(0,document.body.scrollHeight);')\n",
    "        time.sleep(2)\n",
    "    driver.execute_script('window.scrollTo(0,0);')\n",
    "    time.sleep(2)\n",
    "    all_photos = driver.find_elements(By.XPATH,'//div[contains(@class, \"Nnq7C\")]/div/a/div[1]')\n",
    "    photo_count = 0\n",
    "    for photo in all_photos:\n",
    "        if photo_count == 10: # As only latest 10 photos need to be scrapped\n",
    "            break\n",
    "        photo.click()\n",
    "        photo_count += 1\n",
    "        time.sleep(2)\n",
    "        all_hashtags = driver.find_elements(By.XPATH,'//a[@class = \" xil3i\"]')\n",
    "        for hashtag in all_hashtags:\n",
    "            list_of_all_hashtags.append(hashtag.get_attribute('innerHTML'))\n",
    "        driver.back()\n",
    "        time.sleep(2)\n",
    "            "
   ]
  },
  {
   "cell_type": "code",
   "execution_count": 316,
   "id": "bff4cf24",
   "metadata": {},
   "outputs": [],
   "source": [
    "hashtag_freq = {}\n",
    "for key in list_of_all_hashtags:\n",
    "    if key in hashtag_freq:\n",
    "        hashtag_freq[key] += 1\n",
    "    else:\n",
    "        hashtag_freq[key] = 1\n",
    "        \n",
    "hashtag = []\n",
    "frequency = []\n",
    "for key in hashtag_freq:\n",
    "    hashtag.append(key)\n",
    "    frequency.append(hashtag_freq[key])\n",
    "\n",
    "data = pd.DataFrame(list(zip(hashtag,frequency)),columns =['Hashtags','Frequency'])\n",
    "data.to_csv('hashtags.csv',index = False)"
   ]
  },
  {
   "cell_type": "markdown",
   "id": "0c70f796",
   "metadata": {},
   "source": [
    "# Top 5 Hashtags"
   ]
  },
  {
   "cell_type": "code",
   "execution_count": 317,
   "id": "aec2be87",
   "metadata": {},
   "outputs": [
    {
     "name": "stdout",
     "output_type": "stream",
     "text": [
      "Top 5 Hashtags are:\n",
      "#foodporn\n",
      "#HappyCookingToYou\n",
      "#FoodFusion\n",
      "#recipe\n",
      "#streetfood\n"
     ]
    }
   ],
   "source": [
    "data = data.sort_values(by =['Frequency'],ascending = False)\n",
    "print(\"Top 5 Hashtags are:\")\n",
    "for tags in data['Hashtags'][0:5]:\n",
    "    print(tags)\n",
    "   "
   ]
  },
  {
   "cell_type": "markdown",
   "id": "837d5c2b",
   "metadata": {},
   "source": [
    "# Pie graph for these Hashtags"
   ]
  },
  {
   "cell_type": "code",
   "execution_count": 318,
   "id": "2175eaf9",
   "metadata": {
    "scrolled": true
   },
   "outputs": [
    {
     "data": {
      "image/png": "[encoded data removed]",
      "text/plain": [
       "<Figure size 432x288 with 1 Axes>"
      ]
     },
     "metadata": {},
     "output_type": "display_data"
    }
   ],
   "source": [
    "plt.pie(data['Frequency'][0:5],labels = data['Hashtags'][0:5],autopct = \"%.2f%%\")\n",
    "# plt.legend(title = 'Hashtags',loc = 'right')\n",
    "plt.show()"
   ]
  },
  {
   "cell_type": "markdown",
   "id": "4e120319",
   "metadata": {},
   "source": [
    "# Calculate average followers : likes ratio for the obtained handles"
   ]
  },
  {
   "cell_type": "code",
   "execution_count": 320,
   "id": "7708fb04",
   "metadata": {},
   "outputs": [
    {
     "name": "stderr",
     "output_type": "stream",
     "text": [
      "<ipython-input-320-0cee9afcf831>:4: DeprecationWarning: find_element_by_* commands are deprecated. Please use find_element() instead\n",
      "  driver.find_element_by_class_name(\"pbgfb\").click()\n",
      "<ipython-input-320-0cee9afcf831>:6: DeprecationWarning: find_element_by_* commands are deprecated. Please use find_element() instead\n",
      "  search_box = driver.find_element_by_class_name(\"XTCLo.x3qfX\")\n"
     ]
    }
   ],
   "source": [
    "total_likes = []\n",
    "for i in top_5.keys():\n",
    "    t_likes = 0\n",
    "    driver.find_element_by_class_name(\"pbgfb\").click()\n",
    "    waiter = WebDriverWait(driver,10).until(EC.presence_of_element_located((By.CLASS_NAME,\"XTCLo.x3qfX\")))\n",
    "    search_box = driver.find_element_by_class_name(\"XTCLo.x3qfX\")\n",
    "    search_box.send_keys(i)\n",
    "    time.sleep(3)\n",
    "    x = driver.find_elements(By.XPATH,\"//a[@class = '-qQT3']/div[1]/div[2]/div[1]/div[1]/div[1]/div\")\n",
    "    for j in x:\n",
    "        if j.get_attribute('innerHTML') == i:\n",
    "            j.click()\n",
    "            break\n",
    "    time.sleep(2)\n",
    "    for k in range(5):\n",
    "        driver.execute_script('window.scrollTo(0,document.body.scrollHeight);')\n",
    "        time.sleep(2)\n",
    "    driver.execute_script('window.scrollTo(0,0);')\n",
    "    time.sleep(2)\n",
    "    all_photos = driver.find_elements(By.XPATH,'//div[contains(@class, \"Nnq7C\")]/div/a/div[1]')\n",
    "    photo_count = 0\n",
    "    for photo in all_photos:\n",
    "        if photo_count == 10: # As only latest 10 photos need to be scrapped\n",
    "            break\n",
    "        photo.click()\n",
    "        photo_count += 1\n",
    "        time.sleep(2)\n",
    "        try:\n",
    "            like = int(driver.find_element(By.XPATH,'//a[@class= \"zV_Nj\"]/span').get_attribute('innerHTML').replace(',',''))\n",
    "        except NoSuchElementException:\n",
    "            driver.find_element(By.XPATH,'//span[@class = \"vcOH2\"]').click()\n",
    "            like = int(driver.find_element(By.XPATH,'//div[@class= \"vJRqr\"]/span').get_attribute('innerHTML').replace(',',''))\n",
    "            \n",
    "        t_likes += like\n",
    "        driver.back()\n",
    "    total_likes.append(t_likes)"
   ]
  },
  {
   "cell_type": "markdown",
   "id": "0cc64653",
   "metadata": {},
   "source": [
    "# Total Likes for each handle"
   ]
  },
  {
   "cell_type": "code",
   "execution_count": 321,
   "id": "3e1caa88",
   "metadata": {},
   "outputs": [
    {
     "name": "stdout",
     "output_type": "stream",
     "text": [
      "Total likes for the top 10 posts of the profiles are:-\n",
      "yourfoodlab   191433\n",
      "foodfusionpk   35496\n",
      "dilsefoodie   175837\n",
      "foodie_incarnate   409417\n",
      "foodies_findings   99212\n"
     ]
    }
   ],
   "source": [
    "print('Total likes for the top 10 posts of the profiles are:-')\n",
    "for i in range(len(food_handler)):\n",
    "    print(food_handler[i],' ',total_likes[i])"
   ]
  },
  {
   "cell_type": "markdown",
   "id": "ebce7599",
   "metadata": {},
   "source": [
    "# Average Likes of each Handle"
   ]
  },
  {
   "cell_type": "code",
   "execution_count": 322,
   "id": "7a4bd180",
   "metadata": {},
   "outputs": [
    {
     "name": "stdout",
     "output_type": "stream",
     "text": [
      "Average likes for the top 10 posts of the profiles are:-\n",
      "yourfoodlab   19143.3\n",
      "foodfusionpk   3549.6\n",
      "dilsefoodie   17583.7\n",
      "foodie_incarnate   40941.7\n",
      "foodies_findings   9921.2\n"
     ]
    }
   ],
   "source": [
    "average_likes = np.array(total_likes)\n",
    "average_likes = average_likes/10\n",
    "print('Average likes for the top 10 posts of the profiles are:-')\n",
    "for i in range(len(food_handler)):\n",
    "    print(food_handler[i],' ',average_likes[i])\n"
   ]
  },
  {
   "cell_type": "markdown",
   "id": "187f684c",
   "metadata": {},
   "source": [
    "# Calculate the like-ratio and plot the bar graph for this"
   ]
  },
  {
   "cell_type": "code",
   "execution_count": 323,
   "id": "c4c45403",
   "metadata": {},
   "outputs": [
    {
     "data": {
      "image/png": "[encoded data removed]",
      "text/plain": [
       "<Figure size 432x288 with 1 Axes>"
      ]
     },
     "metadata": {
      "needs_background": "light"
     },
     "output_type": "display_data"
    }
   ],
   "source": [
    "followers = []\n",
    "for value in top_5.values():\n",
    "    followers.append(value)\n",
    "followers = np.array(followers)\n",
    "like_ratio = followers/average_likes\n",
    "plt.bar(food_handler,like_ratio,color = 'green',width = 0.4)\n",
    "plt.xticks(rotation = 45)\n",
    "plt.show()"
   ]
  }
 ],
 "metadata": {
  "kernelspec": {
   "display_name": "Python 3",
   "language": "python",
   "name": "python3"
  },
  "language_info": {
   "codemirror_mode": {
    "name": "ipython",
    "version": 3
   },
   "file_extension": ".py",
   "mimetype": "text/x-python",
   "name": "python",
   "nbconvert_exporter": "python",
   "pygments_lexer": "ipython3",
   "version": "3.8.8"
  }
 },
 "nbformat": 4,
 "nbformat_minor": 5
}
